{
 "cells": [
  {
   "cell_type": "code",
   "execution_count": 3,
   "id": "89e12259",
   "metadata": {},
   "outputs": [
    {
     "data": {
      "text/plain": [
       "'THISISATEST'"
      ]
     },
     "execution_count": 3,
     "metadata": {},
     "output_type": "execute_result"
    }
   ],
   "source": [
    "import machine as m\n",
    "\n",
    "e = m.Enigma()\n",
    "\n",
    "# setting rotor position and encrypting\n",
    "e.set_rotor_position('AAA')\n",
    "e.encipher('this is a test')\n",
    "\n",
    "# reseting rotor position and decrypting\n",
    "e.set_rotor_position('AAA')\n",
    "e.decipher('zpjjsvspgbw')\n"
   ]
  }
 ],
 "metadata": {
  "kernelspec": {
   "display_name": "Python 3",
   "language": "python",
   "name": "python3"
  },
  "language_info": {
   "codemirror_mode": {
    "name": "ipython",
    "version": 3
   },
   "file_extension": ".py",
   "mimetype": "text/x-python",
   "name": "python",
   "nbconvert_exporter": "python",
   "pygments_lexer": "ipython3",
   "version": "3.9.13"
  }
 },
 "nbformat": 4,
 "nbformat_minor": 5
}
